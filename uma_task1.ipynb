{
 "cells": [
  {
   "attachments": {},
   "cell_type": "markdown",
   "metadata": {},
   "source": [
    "# Module 4 project\n",
    "# Author : Uma M Subramanian\n",
    "# Repo: https://github.com/umams2002/datafun-04-notebooks\n"
   ]
  },
  {
   "attachments": {},
   "cell_type": "markdown",
   "metadata": {},
   "source": [
    "# Task 1 - Series"
   ]
  },
  {
   "cell_type": "code",
   "execution_count": 1,
   "metadata": {},
   "outputs": [
    {
     "name": "stdout",
     "output_type": "stream",
     "text": [
      "23\n"
     ]
    },
    {
     "data": {
      "text/plain": [
       "(12,\n",
       " 55.333333333333336,\n",
       " 22,\n",
       " 99,\n",
       " 24.66257132260187,\n",
       " count    12.000000\n",
       " mean     55.333333\n",
       " std      24.662571\n",
       " min      22.000000\n",
       " 25%      33.750000\n",
       " 50%      55.000000\n",
       " 75%      77.000000\n",
       " max      99.000000\n",
       " dtype: float64)"
      ]
     },
     "execution_count": 1,
     "metadata": {},
     "output_type": "execute_result"
    }
   ],
   "source": [
    "import pandas as pd\n",
    "grades = pd.Series([23,45,33,77,55,77,55,34,22,66,78,99])\n",
    "print(grades[0])\n",
    "grades.count(), grades.mean(),grades.min(),grades.max(),grades.std(),grades.describe()"
   ]
  }
 ],
 "metadata": {
  "kernelspec": {
   "display_name": ".venv",
   "language": "python",
   "name": "python3"
  },
  "language_info": {
   "codemirror_mode": {
    "name": "ipython",
    "version": 3
   },
   "file_extension": ".py",
   "mimetype": "text/x-python",
   "name": "python",
   "nbconvert_exporter": "python",
   "pygments_lexer": "ipython3",
   "version": "3.11.5"
  },
  "orig_nbformat": 4
 },
 "nbformat": 4,
 "nbformat_minor": 2
}
