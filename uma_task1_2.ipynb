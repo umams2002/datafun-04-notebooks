{
 "cells": [
  {
   "attachments": {},
   "cell_type": "markdown",
   "metadata": {},
   "source": [
    "# Module 4 project\n",
    "# Author : Uma M Subramanian\n",
    "# Repo: https://github.com/umams2002/datafun-04-notebooks"
   ]
  },
  {
   "attachments": {},
   "cell_type": "markdown",
   "metadata": {},
   "source": [
    "## Task 2 - Series from Dictionary"
   ]
  },
  {
   "cell_type": "code",
   "execution_count": 5,
   "metadata": {},
   "outputs": [
    {
     "name": "stdout",
     "output_type": "stream",
     "text": [
      "               Eva  Wally  Uma\n",
      "English         56     45   99\n",
      "Math            78     34  100\n",
      "Science         89     90   99\n",
      "SocialStudies   90     78  100\n",
      "Lamguage2       36     89   98\n"
     ]
    }
   ],
   "source": [
    "import pandas as pd\n",
    "grades_dict = {\"Eva\": [56,78,89,90,36],\n",
    "               \"Wally\": [45,34,90,78,89],\n",
    "               \"Uma\": [99,100,99,100,98]}\n",
    "grades = pd.DataFrame(grades_dict)\n",
    "grades.index = [\"English\",\"Math\",\"Science\",\"SocialStudies\",\"Lamguage2\"]\n",
    "print(grades)"
   ]
  },
  {
   "cell_type": "code",
   "execution_count": 6,
   "metadata": {},
   "outputs": [
    {
     "data": {
      "text/plain": [
       "English          56\n",
       "Math             78\n",
       "Science          89\n",
       "SocialStudies    90\n",
       "Lamguage2        36\n",
       "Name: Eva, dtype: int64"
      ]
     },
     "execution_count": 6,
     "metadata": {},
     "output_type": "execute_result"
    }
   ],
   "source": [
    "grades['Eva']"
   ]
  },
  {
   "cell_type": "code",
   "execution_count": 7,
   "metadata": {},
   "outputs": [
    {
     "data": {
      "text/plain": [
       "English          45\n",
       "Math             34\n",
       "Science          90\n",
       "SocialStudies    78\n",
       "Lamguage2        89\n",
       "Name: Wally, dtype: int64"
      ]
     },
     "execution_count": 7,
     "metadata": {},
     "output_type": "execute_result"
    }
   ],
   "source": [
    "grades.Wally"
   ]
  },
  {
   "cell_type": "code",
   "execution_count": 8,
   "metadata": {},
   "outputs": [
    {
     "data": {
      "text/plain": [
       "array([[ 56,  45,  99],\n",
       "       [ 78,  34, 100],\n",
       "       [ 89,  90,  99],\n",
       "       [ 90,  78, 100],\n",
       "       [ 36,  89,  98]], dtype=int64)"
      ]
     },
     "execution_count": 8,
     "metadata": {},
     "output_type": "execute_result"
    }
   ],
   "source": [
    "grades.values"
   ]
  },
  {
   "cell_type": "code",
   "execution_count": 10,
   "metadata": {},
   "outputs": [
    {
     "data": {
      "text/plain": [
       "array([[ 56,  45,  99],\n",
       "       [ 78,  34, 100],\n",
       "       [ 89,  90,  99],\n",
       "       [ 90,  78, 100],\n",
       "       [ 36,  89,  98]], dtype=int64)"
      ]
     },
     "execution_count": 10,
     "metadata": {},
     "output_type": "execute_result"
    }
   ],
   "source": [
    "grades2 = pd.Series([87, 100, 94], index = [\"Wally\", \"Eva\", \"Uma\"])\n",
    "grades.values"
   ]
  }
 ],
 "metadata": {
  "kernelspec": {
   "display_name": ".venv",
   "language": "python",
   "name": "python3"
  },
  "language_info": {
   "codemirror_mode": {
    "name": "ipython",
    "version": 3
   },
   "file_extension": ".py",
   "mimetype": "text/x-python",
   "name": "python",
   "nbconvert_exporter": "python",
   "pygments_lexer": "ipython3",
   "version": "3.11.5"
  },
  "orig_nbformat": 4
 },
 "nbformat": 4,
 "nbformat_minor": 2
}
